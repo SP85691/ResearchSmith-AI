{
 "cells": [
  {
   "cell_type": "code",
   "execution_count": 3,
   "metadata": {},
   "outputs": [
    {
     "name": "stdout",
     "output_type": "stream",
     "text": [
      "'The capital of France is Paris.'\n"
     ]
    }
   ],
   "source": [
    "from langchain_groq.chat_models import ChatGroq\n",
    "import pprint\n",
    "from dotenv import load_dotenv\n",
    "import os\n",
    "\n",
    "\n",
    "llm = ChatGroq(model=\"llama-3.1-8b-instant\", api_key=os.getenv(\"GROQ_API_KEY\"))\n",
    "\n",
    "prompt = \"What is the capital of France?\"\n",
    "response = llm.invoke(prompt)\n",
    "pprint.pprint(response.content)"
   ]
  },
  {
   "cell_type": "code",
   "execution_count": 4,
   "metadata": {},
   "outputs": [],
   "source": [
    "from langchain_core.messages import AnyMessage, AIMessage, HumanMessage, SystemMessage, ChatMessage\n",
    "from langgraph.graph import StateGraph, END\n",
    "from langchain_groq.chat_models import ChatGroq\n",
    "from dotenv import load_dotenv\n",
    "import os\n",
    "\n",
    "load_dotenv()\n",
    "\n",
    "model = ChatGroq(model=\"llama-3.1-8b-instant\", api_key=os.getenv(\"GROQ_API_KEY\"))"
   ]
  },
  {
   "cell_type": "code",
   "execution_count": 5,
   "metadata": {},
   "outputs": [],
   "source": [
    "# Defining Agent State\n",
    "\n",
    "from typing import TypedDict, List, Annotated, Dict, Union\n",
    "\n",
    "# Creating class for the agent state\n",
    "class AgentState(TypedDict):\n",
    "    task: str\n",
    "    plan: str\n",
    "    abstract: str\n",
    "    keywords: List[str]\n",
    "    introduction: str\n",
    "    research_objectives: List[str]\n",
    "    literature_review: str\n",
    "    research_methodology: str\n",
    "    technology_used: str\n",
    "    comparative_analysis: str\n",
    "    future_outcomes: str\n",
    "    future_objectives: List[str]\n",
    "    conclusion: str\n",
    "    references_cited: List[str]\n",
    "    bibliography: List[str]\n",
    "    draft: str\n",
    "    critique: str\n",
    "    content: List[str]\n",
    "    revision_number: int\n",
    "    max_revisions: int    "
   ]
  },
  {
   "cell_type": "code",
   "execution_count": 6,
   "metadata": {},
   "outputs": [],
   "source": [
    "from pydantic import BaseModel\n",
    "from tavily import TavilyClient\n",
    "\n",
    "class Queries(BaseModel):\n",
    "    queries: List[str]  \n",
    "\n",
    "tavily = TavilyClient(api_key=os.getenv(\"TAVILY_API\"))"
   ]
  },
  {
   "cell_type": "code",
   "execution_count": 52,
   "metadata": {},
   "outputs": [
    {
     "data": {
      "text/plain": [
       "{'properties': {'title': {'description': 'Title of the research paper',\n",
       "   'title': 'Title',\n",
       "   'type': 'string'},\n",
       "  'authors': {'description': 'Authors of the research paper',\n",
       "   'items': {'type': 'string'},\n",
       "   'title': 'Authors',\n",
       "   'type': 'array'},\n",
       "  'affiliation': {'description': 'Affiliation of the authors',\n",
       "   'items': {'type': 'string'},\n",
       "   'title': 'Affiliation',\n",
       "   'type': 'array'},\n",
       "  'abstract': {'description': 'Abstract of the research paper',\n",
       "   'title': 'Abstract',\n",
       "   'type': 'string'},\n",
       "  'keywords': {'description': 'Keywords of the research paper',\n",
       "   'items': {'type': 'string'},\n",
       "   'title': 'Keywords',\n",
       "   'type': 'array'},\n",
       "  'introduction': {'description': 'Introduction of the research paper',\n",
       "   'title': 'Introduction',\n",
       "   'type': 'string'},\n",
       "  'related_work': {'description': 'Related work of the research paper',\n",
       "   'title': 'Related Work',\n",
       "   'type': 'string'},\n",
       "  'research_objectives': {'description': 'Research objectives of the research paper',\n",
       "   'title': 'Research Objectives',\n",
       "   'type': 'string'},\n",
       "  'literature_review': {'description': 'Literature review of the research paper',\n",
       "   'title': 'Literature Review',\n",
       "   'type': 'string'},\n",
       "  'methodology': {'description': 'Methodology of the research paper',\n",
       "   'title': 'Methodology',\n",
       "   'type': 'string'},\n",
       "  'comparative_analysis': {'anyOf': [{'type': 'string'}, {'type': 'null'}],\n",
       "   'description': 'Comparative analysis of the research paper',\n",
       "   'title': 'Comparative Analysis'},\n",
       "  'future_outcomes': {'description': 'Future outcomes of the research paper',\n",
       "   'title': 'Future Outcomes',\n",
       "   'type': 'string'},\n",
       "  'future_objectives': {'description': 'Future objectives of the research paper',\n",
       "   'title': 'Future Objectives',\n",
       "   'type': 'string'},\n",
       "  'conclusion': {'description': 'Conclusion of the research paper',\n",
       "   'title': 'Conclusion',\n",
       "   'type': 'string'},\n",
       "  'references': {'items': {}, 'title': 'References', 'type': 'array'},\n",
       "  'bibliography': {'items': {}, 'title': 'Bibliography', 'type': 'array'},\n",
       "  'cititations': {'items': {'type': 'string'},\n",
       "   'title': 'Cititations',\n",
       "   'type': 'array'}},\n",
       " 'required': ['title',\n",
       "  'authors',\n",
       "  'affiliation',\n",
       "  'abstract',\n",
       "  'keywords',\n",
       "  'introduction',\n",
       "  'related_work',\n",
       "  'research_objectives',\n",
       "  'literature_review',\n",
       "  'methodology',\n",
       "  'comparative_analysis',\n",
       "  'future_outcomes',\n",
       "  'future_objectives',\n",
       "  'conclusion',\n",
       "  'references',\n",
       "  'bibliography',\n",
       "  'cititations'],\n",
       " 'title': 'ResearchSections',\n",
       " 'type': 'object'}"
      ]
     },
     "execution_count": 52,
     "metadata": {},
     "output_type": "execute_result"
    }
   ],
   "source": []
  },
  {
   "cell_type": "code",
   "execution_count": 7,
   "metadata": {},
   "outputs": [],
   "source": [
    "# Create a Planner Node/Agent\n",
    "PLAN_PROMPT = \"\"\"You are an expert writer tasked with writing a high level outline of a research paper.\n",
    "Write such an outline for the user provided topic.\n",
    "Give an outline of the research paper for theses following topics:\n",
    "[0] Title\n",
    "[1] Abstract\n",
    "[2] Keywords\n",
    "[3] Introduction\n",
    "[5] Research Objectives\n",
    "[4] Literature Review\n",
    "[6] Research Methodology\n",
    "[7] Technology Used\n",
    "[8] Comparative Analysis\n",
    "[9] Future Outcomes\n",
    "[10] Future Objectives\n",
    "[11] Conclusion\n",
    "[12] References Cited\n",
    "[13] Bibliography\n",
    "\"\"\"\n",
    "# Create a Planner Node/Agent\n",
    "def plan_node(state: AgentState):\n",
    "    messages = [\n",
    "        SystemMessage(content=PLAN_PROMPT),\n",
    "        HumanMessage(content=state[\"task\"]),\n",
    "    ]\n",
    "    response = model.invoke(messages)\n",
    "    return {\"plan\": response.content}"
   ]
  },
  {
   "cell_type": "code",
   "execution_count": 39,
   "metadata": {},
   "outputs": [],
   "source": [
    "# Research Planner Node/Agent\n",
    "RESEARCH_PLANNER_PROMPT = \"\"\"You are a research planner charged with providing that can be used to generate a research plan.\n",
    "Generate the list of search queries that will help to gather the relevant information for the research paper.\n",
    "- Only generate 5 queries max.\n",
    "- Each query should be a single line.\n",
    "\"\"\"\n",
    "def research_plan_node(state: AgentState):\n",
    "    queries = model.with_structured_output(Queries).invoke(\n",
    "        SystemMessage(content=RESEARCH_PLANNER_PROMPT),\n",
    "        HumanMessage(content=f\"Here are the tasks: {state['task']}\")\n",
    "    )\n",
    "    \n",
    "    content = state.get(\"content\", [])\n",
    "    \n",
    "    for query in queries.queries:\n",
    "        response = tavily.search(query=query, max_results=5)\n",
    "        for r in response[\"results\"]:\n",
    "            content.append(r[\"content\"])\n",
    "    return {\"content\": content}"
   ]
  },
  {
   "cell_type": "code",
   "execution_count": 40,
   "metadata": {},
   "outputs": [],
   "source": [
    "# Abstract Generator Node/Agent\n",
    "ABSTRACT_PROMPT = \"\"\"You are an abstract writer tasked with writing an abstract for a research paper.\n",
    "Write an abstract of 300-500 words for the given topic and provided content: {content}\n",
    "- The abstract should be concise and informative.\n",
    "- The abstract should highlight the key findings and contributions of the research paper.\n",
    "- The abstract should be written in a clear and engaging style.\n",
    "- The abstract should be written in a way that is easy to understand for a general audience.\n",
    "- The abstract should be written in a way that is consistent with the style of the research paper.\n",
    "- It should be more than 300 words and less than 500 words.\n",
    "- Abstract should be focusing the true problem statement of the provided content.\n",
    "\"\"\"\n",
    "\n",
    "# Generate Abstract Node/Agent\n",
    "def abstract_node(state: AgentState):\n",
    "    content = \"\\n\\n\".join(state[\"content\"] or [])\n",
    "    user_message = HumanMessage(\n",
    "        content=f\"{state['task']}\\nHere is the plan:\\n{state['plan']}\\nHere is the content:\\n{content}\"\n",
    "    )\n",
    "    \n",
    "    messages = [\n",
    "        SystemMessage(\n",
    "            content=ABSTRACT_PROMPT.format(content=content)\n",
    "        ),\n",
    "        user_message\n",
    "    ]\n",
    "    \n",
    "    response = model.invoke(messages)\n",
    "    \n",
    "    return {\n",
    "        \"abstract\": response.content,\n",
    "        \"revision_number\": state.get(\"revision_number\", 1) + 1,\n",
    "    }"
   ]
  },
  {
   "cell_type": "code",
   "execution_count": 41,
   "metadata": {},
   "outputs": [],
   "source": [
    "# Keywords Generator Node/Agent\n",
    "KEYWORDS_PROMPT = \"\"\"You are a keyword generator tasked with writing keywords for a research paper.\n",
    "The keywords should be relevant to the research paper's topic and should be written in a way that is easy to understand.\n",
    "You should write the keywords in a list format.\n",
    "Note: Keywords should be separated by commas and relevant to the research paper's topic.\n",
    "\"\"\"\n",
    "\n",
    "# Generate Keywords Node/Agent\n",
    "def keywords_node(state: AgentState):\n",
    "    user_message = HumanMessage(\n",
    "        content=f\"{state['task']}\\nHere is the Plan:\\n{state['plan']}\\nHere is the Abstract:\\n{state['abstract']}\\nHere is the content:\\n{state['content']}\"\n",
    "    )\n",
    "    \n",
    "    messages = [\n",
    "        SystemMessage(\n",
    "            content=KEYWORDS_PROMPT\n",
    "        ),\n",
    "        user_message\n",
    "    ]\n",
    "    \n",
    "    response = model.invoke(messages)\n",
    "    \n",
    "    return {\n",
    "        \"keywords\": response.content.split(\",\"),\n",
    "        \"revision_number\": state.get(\"revision_number\", 1) + 1,\n",
    "    }"
   ]
  },
  {
   "cell_type": "code",
   "execution_count": 42,
   "metadata": {},
   "outputs": [],
   "source": [
    "# Reflection Agent\n",
    "REFLECTION_AGENT_PROMPT = \"\"\"You are a Researcher who is an expert in validating research papers.\n",
    "You are given an Abstract and Its Keywords and you need to validate them.\n",
    "You need to validate the Abstract and Keywords by checking these following criteria:\n",
    "- Is the abstract concise and informative?\n",
    "- Is the abstract free of jargon and technical terms?\n",
    "- Does the abstract provide a clear and concise summary of the research?\n",
    "- Is there any missing information in the abstract?\n",
    "- Is there any irrelevant information in the abstract?\n",
    "- Is the grammar and spelling correct in the abstract?\n",
    "- Is there any AI generated content in the abstract?\n",
    "- Is there any need of paraphrasing in the abstract?\n",
    "- Is there any need of adding more information in the abstract?\n",
    "\"\"\"\n",
    "\n",
    "# Reflection Agent Node\n",
    "def reflection_agent_node(state: AgentState):\n",
    "    messages = [\n",
    "        SystemMessage(\n",
    "            content=REFLECTION_AGENT_PROMPT\n",
    "        ),\n",
    "        HumanMessage(\n",
    "            content=f\"Here is the Abstract:\\n{state['abstract']}\\nHere are the Keywords:\\n{state['keywords']}\"\n",
    "        )\n",
    "    ]\n",
    "    response = model.invoke(messages)\n",
    "    return {\"critique\": response.content}"
   ]
  },
  {
   "cell_type": "code",
   "execution_count": 43,
   "metadata": {},
   "outputs": [],
   "source": [
    "# Research Critique Agent\n",
    "RESEARCH_CRITIQUE_PROMPT = \"\"\"You are a research critique agent charged with providing more information that can be used when \n",
    "making any request revisions (as outlined below):\n",
    "Generate list of queries that will gather more relevant information for the research paper. Generate Only 3 queries max.\n",
    "\"\"\"\n",
    "\n",
    "# Research Critique Agent Node\n",
    "def research_critique_agent(state: AgentState):\n",
    "    queries = model.with_structured_output(Queries).invoke(\n",
    "        SystemMessage(content=RESEARCH_CRITIQUE_PROMPT),\n",
    "        HumanMessage(content=state[\"critique\"])\n",
    "    )\n",
    "    content = state[\"content\"] or []\n",
    "    for query in queries.queries:\n",
    "        response = tavily.search(query=query, max_results=5)\n",
    "        for r in response[\"results\"]:\n",
    "            content.append(r[\"content\"])\n",
    "    return {\"content\": content}"
   ]
  },
  {
   "cell_type": "code",
   "execution_count": 44,
   "metadata": {},
   "outputs": [],
   "source": [
    "def should_continue(state):\n",
    "    if state['revision_number'] > state['max_revisions']:\n",
    "        return END\n",
    "    return 'reflect'"
   ]
  },
  {
   "cell_type": "code",
   "execution_count": 45,
   "metadata": {},
   "outputs": [
    {
     "data": {
      "text/plain": [
       "<langgraph.graph.state.StateGraph at 0x214bac0fad0>"
      ]
     },
     "execution_count": 45,
     "metadata": {},
     "output_type": "execute_result"
    }
   ],
   "source": [
    "builder = StateGraph(AgentState)\n",
    "\n",
    "builder.add_node('planner', plan_node)\n",
    "builder.add_node('research_planner', research_plan_node)\n",
    "builder.add_node('abstract_generator', abstract_node)\n",
    "builder.add_node('keyword_generator', keywords_node)\n",
    "builder.add_node('reflection', reflection_agent_node)\n",
    "\n",
    "builder.add_node('critiques', research_critique_agent)\n",
    "\n",
    "builder.set_entry_point('planner')\n",
    "\n",
    "builder.add_conditional_edges(\n",
    "    'research_planner',\n",
    "    should_continue,\n",
    "    {END:END, 'reflect': 'reflection'},\n",
    ")\n",
    "\n",
    "builder.add_edge('planner', 'research_planner')\n",
    "builder.add_edge('research_planner', 'abstract_generator')\n",
    "builder.add_edge('abstract_generator', 'keyword_generator')\n",
    "builder.add_edge('keyword_generator', 'reflection')\n",
    "builder.add_edge('reflection', 'critiques')\n",
    "builder.add_edge('critiques', 'research_planner')\n",
    "builder.add_edge('research_planner', 'abstract_generator')\n",
    "builder.add_edge('abstract_generator', 'keyword_generator')"
   ]
  },
  {
   "cell_type": "code",
   "execution_count": 46,
   "metadata": {},
   "outputs": [],
   "source": [
    "from langgraph.checkpoint.sqlite import SqliteSaver\n",
    "from langgraph.checkpoint.memory import MemorySaver\n",
    "\n",
    "memory = SqliteSaver.from_conn_string(':memory:')\n",
    "\n",
    "graph = builder.compile(checkpointer=MemorySaver())"
   ]
  },
  {
   "cell_type": "code",
   "execution_count": 47,
   "metadata": {},
   "outputs": [
    {
     "data": {
      "image/png": "[encoded data removed]",
      "text/plain": [
       "<IPython.core.display.Image object>"
      ]
     },
     "metadata": {},
     "output_type": "display_data"
    }
   ],
   "source": [
    "from IPython.display import Image, display\n",
    "display(Image(graph.get_graph().draw_mermaid_png()))"
   ]
  },
  {
   "cell_type": "code",
   "execution_count": 48,
   "metadata": {},
   "outputs": [],
   "source": [
    "thread = {'configurable': {'thread_id': '1'}}\n",
    "task = 'Future of Artificial General Intelligence and its use cases in the future'\n",
    "\n",
    "prompt = {\n",
    "    'task': task,\n",
    "    'max_revisions': 5,\n",
    "    'revision_number': 1,\n",
    "}"
   ]
  },
  {
   "cell_type": "code",
   "execution_count": 49,
   "metadata": {},
   "outputs": [
    {
     "name": "stdout",
     "output_type": "stream",
     "text": [
      "{'planner': {'plan': \"**Title:** The Future of Artificial General Intelligence: Exploring its Potential and Applications\\n\\n**I. Abstract**\\n\\n* Brief overview of the paper's focus on Artificial General Intelligence (AGI) and its future applications\\n* Highlights the significance of AGI in transforming industries and revolutionizing human life\\n* Provides a glimpse into the paper's main arguments and conclusions\\n\\n**II. Keywords**\\n\\n* Artificial General Intelligence (AGI)\\n* Machine Learning (ML)\\n* Deep Learning (DL)\\n* Artificial Intelligence (AI)\\n* Future Applications of AGI\\n\\n**III. Introduction**\\n\\n* Definition and explanation of AGI\\n* Importance of AGI in the modern era\\n* Current state of AGI research and development\\n* Thesis statement: AGI has the potential to revolutionize various industries and aspects of human life in the future\\n\\n**IV. Literature Review**\\n\\n* Overview of existing research on AGI and its applications\\n* Discussion of the benefits and challenges of AGI\\n* Examination of the current limitations and future prospects of AGI\\n* Analysis of the impact of AGI on various industries, such as healthcare, finance, and education\\n\\n**V. Research Objectives**\\n\\n* To explore the potential applications of AGI in various industries\\n* To discuss the benefits and challenges of integrating AGI into existing systems\\n* To investigate the future prospects of AGI and its potential impact on human life\\n\\n**VI. Research Methodology**\\n\\n* Overview of the research methods used, including literature reviews and expert interviews\\n* Explanation of the data collection and analysis procedures\\n* Discussion of the limitations and potential biases of the research\\n\\n**VII. Technology Used**\\n\\n* Overview of the current AI technologies used to develop AGI, such as ML and DL\\n* Discussion of the tools and platforms used for AGI development\\n* Explanation of the potential advancements in AI technology that will enable the development of AGI\\n\\n**VIII. Comparative Analysis**\\n\\n* Comparison of the current state of AGI with other AI technologies, such as Narrow AI and Weak AI\\n* Analysis of the advantages and disadvantages of AGI compared to other AI technologies\\n* Discussion of the potential applications of AGI in various industries\\n\\n**IX. Future Outcomes**\\n\\n* Discussion of the potential outcomes of AGI, including both positive and negative impacts\\n* Examination of the potential risks and challenges associated with AGI, such as job displacement and bias\\n* Analysis of the potential solutions to mitigate the risks and challenges of AGI\\n\\n**X. Future Objectives**\\n\\n* Discussion of the potential future objectives of AGI research and development\\n* Examination of the potential applications of AGI in various industries and aspects of human life\\n* Analysis of the potential advancements in AI technology that will enable the development of AGI\\n\\n**XI. Conclusion**\\n\\n* Summary of the main arguments and findings of the paper\\n* Recap of the potential applications and benefits of AGI\\n* Final thoughts on the future of AGI and its potential impact on human life\\n\\n**XII. References Cited**\\n\\n* List of sources cited in the paper, formatted according to a chosen citation style\\n\\n**XIII. Bibliography**\\n\\n* List of sources used in the paper, including books, articles, and websites\\n* Sorted alphabetically by author or title\"}}\n",
      "------------------------------------------------------------------------------------------------------------------------------------------------------\n"
     ]
    },
    {
     "ename": "AttributeError",
     "evalue": "'HumanMessage' object has no attribute 'items'",
     "output_type": "error",
     "traceback": [
      "\u001b[1;31m---------------------------------------------------------------------------\u001b[0m",
      "\u001b[1;31mAttributeError\u001b[0m                            Traceback (most recent call last)",
      "Cell \u001b[1;32mIn[49], line 2\u001b[0m\n\u001b[0;32m      1\u001b[0m event \u001b[38;5;241m=\u001b[39m graph\u001b[38;5;241m.\u001b[39mstream(prompt, thread)\n\u001b[1;32m----> 2\u001b[0m \u001b[38;5;28;43;01mfor\u001b[39;49;00m\u001b[43m \u001b[49m\u001b[43me\u001b[49m\u001b[43m \u001b[49m\u001b[38;5;129;43;01min\u001b[39;49;00m\u001b[43m \u001b[49m\u001b[43mevent\u001b[49m\u001b[43m:\u001b[49m\n\u001b[0;32m      3\u001b[0m \u001b[43m    \u001b[49m\u001b[38;5;28;43mprint\u001b[39;49m\u001b[43m(\u001b[49m\u001b[43me\u001b[49m\u001b[43m)\u001b[49m\n\u001b[0;32m      4\u001b[0m \u001b[43m    \u001b[49m\u001b[38;5;28;43mprint\u001b[39;49m\u001b[43m(\u001b[49m\u001b[38;5;124;43m'\u001b[39;49m\u001b[38;5;124;43m-\u001b[39;49m\u001b[38;5;124;43m'\u001b[39;49m\u001b[38;5;241;43m*\u001b[39;49m\u001b[38;5;241;43m150\u001b[39;49m\u001b[43m)\u001b[49m\n",
      "File \u001b[1;32md:\\Disk D\\ResearchPaperBuilderAgency\\venv\\Lib\\site-packages\\langgraph\\pregel\\__init__.py:1656\u001b[0m, in \u001b[0;36mPregel.stream\u001b[1;34m(self, input, config, stream_mode, output_keys, interrupt_before, interrupt_after, debug, subgraphs)\u001b[0m\n\u001b[0;32m   1650\u001b[0m     \u001b[38;5;66;03m# Similarly to Bulk Synchronous Parallel / Pregel model\u001b[39;00m\n\u001b[0;32m   1651\u001b[0m     \u001b[38;5;66;03m# computation proceeds in steps, while there are channel updates\u001b[39;00m\n\u001b[0;32m   1652\u001b[0m     \u001b[38;5;66;03m# channel updates from step N are only visible in step N+1\u001b[39;00m\n\u001b[0;32m   1653\u001b[0m     \u001b[38;5;66;03m# channels are guaranteed to be immutable for the duration of the step,\u001b[39;00m\n\u001b[0;32m   1654\u001b[0m     \u001b[38;5;66;03m# with channel updates applied only at the transition between steps\u001b[39;00m\n\u001b[0;32m   1655\u001b[0m     \u001b[38;5;28;01mwhile\u001b[39;00m loop\u001b[38;5;241m.\u001b[39mtick(input_keys\u001b[38;5;241m=\u001b[39m\u001b[38;5;28mself\u001b[39m\u001b[38;5;241m.\u001b[39minput_channels):\n\u001b[1;32m-> 1656\u001b[0m \u001b[43m        \u001b[49m\u001b[38;5;28;43;01mfor\u001b[39;49;00m\u001b[43m \u001b[49m\u001b[43m_\u001b[49m\u001b[43m \u001b[49m\u001b[38;5;129;43;01min\u001b[39;49;00m\u001b[43m \u001b[49m\u001b[43mrunner\u001b[49m\u001b[38;5;241;43m.\u001b[39;49m\u001b[43mtick\u001b[49m\u001b[43m(\u001b[49m\n\u001b[0;32m   1657\u001b[0m \u001b[43m            \u001b[49m\u001b[43mloop\u001b[49m\u001b[38;5;241;43m.\u001b[39;49m\u001b[43mtasks\u001b[49m\u001b[38;5;241;43m.\u001b[39;49m\u001b[43mvalues\u001b[49m\u001b[43m(\u001b[49m\u001b[43m)\u001b[49m\u001b[43m,\u001b[49m\n\u001b[0;32m   1658\u001b[0m \u001b[43m            \u001b[49m\u001b[43mtimeout\u001b[49m\u001b[38;5;241;43m=\u001b[39;49m\u001b[38;5;28;43mself\u001b[39;49m\u001b[38;5;241;43m.\u001b[39;49m\u001b[43mstep_timeout\u001b[49m\u001b[43m,\u001b[49m\n\u001b[0;32m   1659\u001b[0m \u001b[43m            \u001b[49m\u001b[43mretry_policy\u001b[49m\u001b[38;5;241;43m=\u001b[39;49m\u001b[38;5;28;43mself\u001b[39;49m\u001b[38;5;241;43m.\u001b[39;49m\u001b[43mretry_policy\u001b[49m\u001b[43m,\u001b[49m\n\u001b[0;32m   1660\u001b[0m \u001b[43m            \u001b[49m\u001b[43mget_waiter\u001b[49m\u001b[38;5;241;43m=\u001b[39;49m\u001b[43mget_waiter\u001b[49m\u001b[43m,\u001b[49m\n\u001b[0;32m   1661\u001b[0m \u001b[43m        \u001b[49m\u001b[43m)\u001b[49m\u001b[43m:\u001b[49m\n\u001b[0;32m   1662\u001b[0m \u001b[43m            \u001b[49m\u001b[38;5;66;43;03m# emit output\u001b[39;49;00m\n\u001b[0;32m   1663\u001b[0m \u001b[43m            \u001b[49m\u001b[38;5;28;43;01myield from\u001b[39;49;00m\u001b[43m \u001b[49m\u001b[43moutput\u001b[49m\u001b[43m(\u001b[49m\u001b[43m)\u001b[49m\n\u001b[0;32m   1664\u001b[0m \u001b[38;5;66;03m# emit output\u001b[39;00m\n",
      "File \u001b[1;32md:\\Disk D\\ResearchPaperBuilderAgency\\venv\\Lib\\site-packages\\langgraph\\pregel\\runner.py:167\u001b[0m, in \u001b[0;36mPregelRunner.tick\u001b[1;34m(self, tasks, reraise, timeout, retry_policy, get_waiter)\u001b[0m\n\u001b[0;32m    165\u001b[0m t \u001b[38;5;241m=\u001b[39m tasks[\u001b[38;5;241m0\u001b[39m]\n\u001b[0;32m    166\u001b[0m \u001b[38;5;28;01mtry\u001b[39;00m:\n\u001b[1;32m--> 167\u001b[0m     \u001b[43mrun_with_retry\u001b[49m\u001b[43m(\u001b[49m\n\u001b[0;32m    168\u001b[0m \u001b[43m        \u001b[49m\u001b[43mt\u001b[49m\u001b[43m,\u001b[49m\n\u001b[0;32m    169\u001b[0m \u001b[43m        \u001b[49m\u001b[43mretry_policy\u001b[49m\u001b[43m,\u001b[49m\n\u001b[0;32m    170\u001b[0m \u001b[43m        \u001b[49m\u001b[43mconfigurable\u001b[49m\u001b[38;5;241;43m=\u001b[39;49m\u001b[43m{\u001b[49m\n\u001b[0;32m    171\u001b[0m \u001b[43m            \u001b[49m\u001b[43mCONFIG_KEY_SEND\u001b[49m\u001b[43m:\u001b[49m\u001b[43m \u001b[49m\u001b[43mpartial\u001b[49m\u001b[43m(\u001b[49m\u001b[43mwriter\u001b[49m\u001b[43m,\u001b[49m\u001b[43m \u001b[49m\u001b[43mt\u001b[49m\u001b[43m)\u001b[49m\u001b[43m,\u001b[49m\n\u001b[0;32m    172\u001b[0m \u001b[43m            \u001b[49m\u001b[43mCONFIG_KEY_CALL\u001b[49m\u001b[43m:\u001b[49m\u001b[43m \u001b[49m\u001b[43mpartial\u001b[49m\u001b[43m(\u001b[49m\u001b[43mcall\u001b[49m\u001b[43m,\u001b[49m\u001b[43m \u001b[49m\u001b[43mt\u001b[49m\u001b[43m)\u001b[49m\u001b[43m,\u001b[49m\n\u001b[0;32m    173\u001b[0m \u001b[43m        \u001b[49m\u001b[43m}\u001b[49m\u001b[43m,\u001b[49m\n\u001b[0;32m    174\u001b[0m \u001b[43m    \u001b[49m\u001b[43m)\u001b[49m\n\u001b[0;32m    175\u001b[0m     \u001b[38;5;28mself\u001b[39m\u001b[38;5;241m.\u001b[39mcommit(t, \u001b[38;5;28;01mNone\u001b[39;00m)\n\u001b[0;32m    176\u001b[0m \u001b[38;5;28;01mexcept\u001b[39;00m \u001b[38;5;167;01mException\u001b[39;00m \u001b[38;5;28;01mas\u001b[39;00m exc:\n",
      "File \u001b[1;32md:\\Disk D\\ResearchPaperBuilderAgency\\venv\\Lib\\site-packages\\langgraph\\pregel\\retry.py:40\u001b[0m, in \u001b[0;36mrun_with_retry\u001b[1;34m(task, retry_policy, configurable)\u001b[0m\n\u001b[0;32m     38\u001b[0m     task\u001b[38;5;241m.\u001b[39mwrites\u001b[38;5;241m.\u001b[39mclear()\n\u001b[0;32m     39\u001b[0m     \u001b[38;5;66;03m# run the task\u001b[39;00m\n\u001b[1;32m---> 40\u001b[0m     \u001b[38;5;28;01mreturn\u001b[39;00m \u001b[43mtask\u001b[49m\u001b[38;5;241;43m.\u001b[39;49m\u001b[43mproc\u001b[49m\u001b[38;5;241;43m.\u001b[39;49m\u001b[43minvoke\u001b[49m\u001b[43m(\u001b[49m\u001b[43mtask\u001b[49m\u001b[38;5;241;43m.\u001b[39;49m\u001b[43minput\u001b[49m\u001b[43m,\u001b[49m\u001b[43m \u001b[49m\u001b[43mconfig\u001b[49m\u001b[43m)\u001b[49m\n\u001b[0;32m     41\u001b[0m \u001b[38;5;28;01mexcept\u001b[39;00m ParentCommand \u001b[38;5;28;01mas\u001b[39;00m exc:\n\u001b[0;32m     42\u001b[0m     ns: \u001b[38;5;28mstr\u001b[39m \u001b[38;5;241m=\u001b[39m config[CONF][CONFIG_KEY_CHECKPOINT_NS]\n",
      "File \u001b[1;32md:\\Disk D\\ResearchPaperBuilderAgency\\venv\\Lib\\site-packages\\langgraph\\utils\\runnable.py:408\u001b[0m, in \u001b[0;36mRunnableSeq.invoke\u001b[1;34m(self, input, config, **kwargs)\u001b[0m\n\u001b[0;32m    404\u001b[0m config \u001b[38;5;241m=\u001b[39m patch_config(\n\u001b[0;32m    405\u001b[0m     config, callbacks\u001b[38;5;241m=\u001b[39mrun_manager\u001b[38;5;241m.\u001b[39mget_child(\u001b[38;5;124mf\u001b[39m\u001b[38;5;124m\"\u001b[39m\u001b[38;5;124mseq:step:\u001b[39m\u001b[38;5;132;01m{\u001b[39;00mi\u001b[38;5;241m+\u001b[39m\u001b[38;5;241m1\u001b[39m\u001b[38;5;132;01m}\u001b[39;00m\u001b[38;5;124m\"\u001b[39m)\n\u001b[0;32m    406\u001b[0m )\n\u001b[0;32m    407\u001b[0m \u001b[38;5;28;01mif\u001b[39;00m i \u001b[38;5;241m==\u001b[39m \u001b[38;5;241m0\u001b[39m:\n\u001b[1;32m--> 408\u001b[0m     \u001b[38;5;28minput\u001b[39m \u001b[38;5;241m=\u001b[39m \u001b[43mstep\u001b[49m\u001b[38;5;241;43m.\u001b[39;49m\u001b[43minvoke\u001b[49m\u001b[43m(\u001b[49m\u001b[38;5;28;43minput\u001b[39;49m\u001b[43m,\u001b[49m\u001b[43m \u001b[49m\u001b[43mconfig\u001b[49m\u001b[43m,\u001b[49m\u001b[43m \u001b[49m\u001b[38;5;241;43m*\u001b[39;49m\u001b[38;5;241;43m*\u001b[39;49m\u001b[43mkwargs\u001b[49m\u001b[43m)\u001b[49m\n\u001b[0;32m    409\u001b[0m \u001b[38;5;28;01melse\u001b[39;00m:\n\u001b[0;32m    410\u001b[0m     \u001b[38;5;28minput\u001b[39m \u001b[38;5;241m=\u001b[39m step\u001b[38;5;241m.\u001b[39minvoke(\u001b[38;5;28minput\u001b[39m, config)\n",
      "File \u001b[1;32md:\\Disk D\\ResearchPaperBuilderAgency\\venv\\Lib\\site-packages\\langgraph\\utils\\runnable.py:184\u001b[0m, in \u001b[0;36mRunnableCallable.invoke\u001b[1;34m(self, input, config, **kwargs)\u001b[0m\n\u001b[0;32m    182\u001b[0m \u001b[38;5;28;01melse\u001b[39;00m:\n\u001b[0;32m    183\u001b[0m     context\u001b[38;5;241m.\u001b[39mrun(_set_config_context, config)\n\u001b[1;32m--> 184\u001b[0m     ret \u001b[38;5;241m=\u001b[39m \u001b[43mcontext\u001b[49m\u001b[38;5;241;43m.\u001b[39;49m\u001b[43mrun\u001b[49m\u001b[43m(\u001b[49m\u001b[38;5;28;43mself\u001b[39;49m\u001b[38;5;241;43m.\u001b[39;49m\u001b[43mfunc\u001b[49m\u001b[43m,\u001b[49m\u001b[43m \u001b[49m\u001b[38;5;28;43minput\u001b[39;49m\u001b[43m,\u001b[49m\u001b[43m \u001b[49m\u001b[38;5;241;43m*\u001b[39;49m\u001b[38;5;241;43m*\u001b[39;49m\u001b[43mkwargs\u001b[49m\u001b[43m)\u001b[49m\n\u001b[0;32m    185\u001b[0m \u001b[38;5;28;01mif\u001b[39;00m \u001b[38;5;28misinstance\u001b[39m(ret, Runnable) \u001b[38;5;129;01mand\u001b[39;00m \u001b[38;5;28mself\u001b[39m\u001b[38;5;241m.\u001b[39mrecurse:\n\u001b[0;32m    186\u001b[0m     \u001b[38;5;28;01mreturn\u001b[39;00m ret\u001b[38;5;241m.\u001b[39minvoke(\u001b[38;5;28minput\u001b[39m, config)\n",
      "Cell \u001b[1;32mIn[39], line 8\u001b[0m, in \u001b[0;36mresearch_plan_node\u001b[1;34m(state)\u001b[0m\n\u001b[0;32m      7\u001b[0m \u001b[38;5;28;01mdef\u001b[39;00m \u001b[38;5;21mresearch_plan_node\u001b[39m(state: AgentState):\n\u001b[1;32m----> 8\u001b[0m     queries \u001b[38;5;241m=\u001b[39m \u001b[43mmodel\u001b[49m\u001b[38;5;241;43m.\u001b[39;49m\u001b[43mwith_structured_output\u001b[49m\u001b[43m(\u001b[49m\u001b[43mQueries\u001b[49m\u001b[43m)\u001b[49m\u001b[38;5;241;43m.\u001b[39;49m\u001b[43minvoke\u001b[49m\u001b[43m(\u001b[49m\n\u001b[0;32m      9\u001b[0m \u001b[43m        \u001b[49m\u001b[43mSystemMessage\u001b[49m\u001b[43m(\u001b[49m\u001b[43mcontent\u001b[49m\u001b[38;5;241;43m=\u001b[39;49m\u001b[43mRESEARCH_PLANNER_PROMPT\u001b[49m\u001b[43m)\u001b[49m\u001b[43m,\u001b[49m\n\u001b[0;32m     10\u001b[0m \u001b[43m        \u001b[49m\u001b[43mHumanMessage\u001b[49m\u001b[43m(\u001b[49m\u001b[43mcontent\u001b[49m\u001b[38;5;241;43m=\u001b[39;49m\u001b[38;5;124;43mf\u001b[39;49m\u001b[38;5;124;43m\"\u001b[39;49m\u001b[38;5;124;43mHere are the tasks: \u001b[39;49m\u001b[38;5;132;43;01m{\u001b[39;49;00m\u001b[43mstate\u001b[49m\u001b[43m[\u001b[49m\u001b[38;5;124;43m'\u001b[39;49m\u001b[38;5;124;43mtask\u001b[39;49m\u001b[38;5;124;43m'\u001b[39;49m\u001b[43m]\u001b[49m\u001b[38;5;132;43;01m}\u001b[39;49;00m\u001b[38;5;124;43m\"\u001b[39;49m\u001b[43m)\u001b[49m\n\u001b[0;32m     11\u001b[0m \u001b[43m    \u001b[49m\u001b[43m)\u001b[49m\n\u001b[0;32m     13\u001b[0m     content \u001b[38;5;241m=\u001b[39m state\u001b[38;5;241m.\u001b[39mget(\u001b[38;5;124m\"\u001b[39m\u001b[38;5;124mcontent\u001b[39m\u001b[38;5;124m\"\u001b[39m, [])\n\u001b[0;32m     15\u001b[0m     \u001b[38;5;28;01mfor\u001b[39;00m query \u001b[38;5;129;01min\u001b[39;00m queries\u001b[38;5;241m.\u001b[39mqueries:\n",
      "File \u001b[1;32md:\\Disk D\\ResearchPaperBuilderAgency\\venv\\Lib\\site-packages\\langchain_core\\runnables\\base.py:3002\u001b[0m, in \u001b[0;36mRunnableSequence.invoke\u001b[1;34m(self, input, config, **kwargs)\u001b[0m\n\u001b[0;32m   2999\u001b[0m \u001b[38;5;28;01mfrom\u001b[39;00m \u001b[38;5;21;01mlangchain_core\u001b[39;00m\u001b[38;5;21;01m.\u001b[39;00m\u001b[38;5;21;01mbeta\u001b[39;00m\u001b[38;5;21;01m.\u001b[39;00m\u001b[38;5;21;01mrunnables\u001b[39;00m\u001b[38;5;21;01m.\u001b[39;00m\u001b[38;5;21;01mcontext\u001b[39;00m \u001b[38;5;28;01mimport\u001b[39;00m config_with_context\n\u001b[0;32m   3001\u001b[0m \u001b[38;5;66;03m# setup callbacks and context\u001b[39;00m\n\u001b[1;32m-> 3002\u001b[0m config \u001b[38;5;241m=\u001b[39m config_with_context(\u001b[43mensure_config\u001b[49m\u001b[43m(\u001b[49m\u001b[43mconfig\u001b[49m\u001b[43m)\u001b[49m, \u001b[38;5;28mself\u001b[39m\u001b[38;5;241m.\u001b[39msteps)\n\u001b[0;32m   3003\u001b[0m callback_manager \u001b[38;5;241m=\u001b[39m get_callback_manager_for_config(config)\n\u001b[0;32m   3004\u001b[0m \u001b[38;5;66;03m# start the root run\u001b[39;00m\n",
      "File \u001b[1;32md:\\Disk D\\ResearchPaperBuilderAgency\\venv\\Lib\\site-packages\\langchain_core\\runnables\\config.py:183\u001b[0m, in \u001b[0;36mensure_config\u001b[1;34m(config)\u001b[0m\n\u001b[0;32m    167\u001b[0m     empty\u001b[38;5;241m.\u001b[39mupdate(\n\u001b[0;32m    168\u001b[0m         cast(\n\u001b[0;32m    169\u001b[0m             RunnableConfig,\n\u001b[1;32m   (...)\u001b[0m\n\u001b[0;32m    175\u001b[0m         )\n\u001b[0;32m    176\u001b[0m     )\n\u001b[0;32m    177\u001b[0m \u001b[38;5;28;01mif\u001b[39;00m config \u001b[38;5;129;01mis\u001b[39;00m \u001b[38;5;129;01mnot\u001b[39;00m \u001b[38;5;28;01mNone\u001b[39;00m:\n\u001b[0;32m    178\u001b[0m     empty\u001b[38;5;241m.\u001b[39mupdate(\n\u001b[0;32m    179\u001b[0m         cast(\n\u001b[0;32m    180\u001b[0m             RunnableConfig,\n\u001b[0;32m    181\u001b[0m             {\n\u001b[0;32m    182\u001b[0m                 k: v\u001b[38;5;241m.\u001b[39mcopy() \u001b[38;5;28;01mif\u001b[39;00m k \u001b[38;5;129;01min\u001b[39;00m COPIABLE_KEYS \u001b[38;5;28;01melse\u001b[39;00m v  \u001b[38;5;66;03m# type: ignore[attr-defined]\u001b[39;00m\n\u001b[1;32m--> 183\u001b[0m                 \u001b[38;5;28;01mfor\u001b[39;00m k, v \u001b[38;5;129;01min\u001b[39;00m \u001b[43mconfig\u001b[49m\u001b[38;5;241;43m.\u001b[39;49m\u001b[43mitems\u001b[49m()\n\u001b[0;32m    184\u001b[0m                 \u001b[38;5;28;01mif\u001b[39;00m v \u001b[38;5;129;01mis\u001b[39;00m \u001b[38;5;129;01mnot\u001b[39;00m \u001b[38;5;28;01mNone\u001b[39;00m \u001b[38;5;129;01mand\u001b[39;00m k \u001b[38;5;129;01min\u001b[39;00m CONFIG_KEYS\n\u001b[0;32m    185\u001b[0m             },\n\u001b[0;32m    186\u001b[0m         )\n\u001b[0;32m    187\u001b[0m     )\n\u001b[0;32m    188\u001b[0m \u001b[38;5;28;01mif\u001b[39;00m config \u001b[38;5;129;01mis\u001b[39;00m \u001b[38;5;129;01mnot\u001b[39;00m \u001b[38;5;28;01mNone\u001b[39;00m:\n\u001b[0;32m    189\u001b[0m     \u001b[38;5;28;01mfor\u001b[39;00m k, v \u001b[38;5;129;01min\u001b[39;00m config\u001b[38;5;241m.\u001b[39mitems():\n",
      "File \u001b[1;32md:\\Disk D\\ResearchPaperBuilderAgency\\venv\\Lib\\site-packages\\pydantic\\main.py:892\u001b[0m, in \u001b[0;36mBaseModel.__getattr__\u001b[1;34m(self, item)\u001b[0m\n\u001b[0;32m    889\u001b[0m     \u001b[38;5;28;01mreturn\u001b[39;00m \u001b[38;5;28msuper\u001b[39m()\u001b[38;5;241m.\u001b[39m\u001b[38;5;21m__getattribute__\u001b[39m(item)  \u001b[38;5;66;03m# Raises AttributeError if appropriate\u001b[39;00m\n\u001b[0;32m    890\u001b[0m \u001b[38;5;28;01melse\u001b[39;00m:\n\u001b[0;32m    891\u001b[0m     \u001b[38;5;66;03m# this is the current error\u001b[39;00m\n\u001b[1;32m--> 892\u001b[0m     \u001b[38;5;28;01mraise\u001b[39;00m \u001b[38;5;167;01mAttributeError\u001b[39;00m(\u001b[38;5;124mf\u001b[39m\u001b[38;5;124m'\u001b[39m\u001b[38;5;132;01m{\u001b[39;00m\u001b[38;5;28mtype\u001b[39m(\u001b[38;5;28mself\u001b[39m)\u001b[38;5;241m.\u001b[39m\u001b[38;5;18m__name__\u001b[39m\u001b[38;5;132;01m!r}\u001b[39;00m\u001b[38;5;124m object has no attribute \u001b[39m\u001b[38;5;132;01m{\u001b[39;00mitem\u001b[38;5;132;01m!r}\u001b[39;00m\u001b[38;5;124m'\u001b[39m)\n",
      "\u001b[1;31mAttributeError\u001b[0m: 'HumanMessage' object has no attribute 'items'",
      "\u001b[0mDuring task with name 'research_planner' and id 'edec9fa4-f31c-8cd7-44a1-7f8c61c33208'"
     ]
    }
   ],
   "source": [
    "event = graph.stream(prompt, thread)\n",
    "for e in event:\n",
    "    print(e)\n",
    "    print('-'*150)"
   ]
  },
  {
   "cell_type": "code",
   "execution_count": null,
   "metadata": {},
   "outputs": [],
   "source": []
  }
 ],
 "metadata": {
  "kernelspec": {
   "display_name": "venv",
   "language": "python",
   "name": "python3"
  },
  "language_info": {
   "codemirror_mode": {
    "name": "ipython",
    "version": 3
   },
   "file_extension": ".py",
   "mimetype": "text/x-python",
   "name": "python",
   "nbconvert_exporter": "python",
   "pygments_lexer": "ipython3",
   "version": "3.12.5"
  }
 },
 "nbformat": 4,
 "nbformat_minor": 2
}
